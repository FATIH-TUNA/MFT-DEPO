{
 "cells": [
  {
   "cell_type": "code",
   "execution_count": null,
   "id": "df1b79b1",
   "metadata": {},
   "outputs": [
    {
     "name": "stdout",
     "output_type": "stream",
     "text": [
      "1---ARAMA\n",
      "2---EKLEME\n",
      "3---SILME\n",
      "4---LISTELEME\n",
      "BIR ISLEM SECINIZ: \n"
     ]
    }
   ],
   "source": [
    "sozluk={'elma':'apple','portakal':'orange','siyah':'black','mavi':'blue','sari':'yellow'}\n",
    "while True:\n",
    "    print(\"1---ARAMA\")\n",
    "    print(\"2---EKLEME\")\n",
    "    print(\"3---SILME\")\n",
    "    print(\"4---LISTELEME\")\n",
    "    print(\"BIR ISLEM SECINIZ: \")\n",
    "    secim=input()\n",
    "    if(secim=='1'):\n",
    "        while True:\n",
    "            kelime=input(\"ARANAN KELIMEYI GIRINIZ: \")\n",
    "            if kelime in sozluk:\n",
    "                print(kelime,\" = \",sozluk[kelime])\n",
    "            else:\n",
    "                print(\"ARANAN KELIME BULUNAMADI...\")\n",
    "                print()\n",
    "                secim=input(\"KELIMEYI EKLEMEK ISTER MISINIZ: \").upper()\n",
    "                if(secim=='E'):\n",
    "                    e_kelime=input(\"KELIMENIN INGILIZCESINI GIRINIZ: \")\n",
    "                    sozluk[kelime]=e_kelime\n",
    "                    print(sozluk)\n",
    "                else:\n",
    "                    print(\"peki...\")\n",
    "                    break\n",
    "            cevap=input(\"KELIME ARAMA DEVAM EDILSIN MI: \").upper()\n",
    "            if(cevap=='E'):\n",
    "                continue\n",
    "            else:\n",
    "                break\n",
    "    elif(secim=='2'):\n",
    "        while True:\n",
    "            t_kelime=input(\"KELIMENIN TURKCESI: \").lower()\n",
    "            e_kelime=input(\"KELIMENIN INGILIZCESI: \").lower()\n",
    "            sozluk[t_kelime]=e_kelime\n",
    "            print(sozluk)\n",
    "            cevap=input(\"KELIME EKLEME DEVAM EDILSIN MI: \").upper()\n",
    "            if(cevap=='E'):\n",
    "                continue\n",
    "            else:\n",
    "                break\n",
    "    elif(secim=='3'):\n",
    "        while True:\n",
    "            s_kelime=input(\"\\nSILINECEK KELIMEYI GIRINIZ: \").lower()\n",
    "            if s_kelime in sozluk:\n",
    "                del sozluk[s_kelime]\n",
    "                print(sozluk)\n",
    "            else:\n",
    "                print(\"GIRILEN KELIME ZATEN SOZLUKTE BULUNMAMAKTADIR...\")\n",
    "            cevap=input(\"SILME ISLEMI  DEVAM ETSIN MI: \").upper()\n",
    "            if(cevap=='E'):\n",
    "                continue\n",
    "            else:\n",
    "                break\n",
    "    elif(secim=='4'):\n",
    "        print(sozluk)\n",
    "        \n",
    "    cevap=str(input(\"\\nISLEM DEVAM ETSIN MI: \")).upper()\n",
    "    if(cevap=='E'):\n",
    "        continue\n",
    "    else:\n",
    "        break"
   ]
  },
  {
   "cell_type": "code",
   "execution_count": null,
   "id": "e2c45f73",
   "metadata": {},
   "outputs": [],
   "source": []
  },
  {
   "cell_type": "code",
   "execution_count": null,
   "id": "0ab4cb97",
   "metadata": {},
   "outputs": [],
   "source": []
  },
  {
   "cell_type": "code",
   "execution_count": null,
   "id": "375bdb89",
   "metadata": {},
   "outputs": [],
   "source": []
  },
  {
   "cell_type": "code",
   "execution_count": null,
   "id": "7ffee2f6",
   "metadata": {},
   "outputs": [],
   "source": []
  },
  {
   "cell_type": "code",
   "execution_count": null,
   "id": "8d2d8370",
   "metadata": {},
   "outputs": [],
   "source": []
  },
  {
   "cell_type": "code",
   "execution_count": null,
   "id": "3241e976",
   "metadata": {},
   "outputs": [],
   "source": []
  },
  {
   "cell_type": "code",
   "execution_count": null,
   "id": "1a445885",
   "metadata": {},
   "outputs": [],
   "source": []
  }
 ],
 "metadata": {
  "kernelspec": {
   "display_name": "Python 3 (ipykernel)",
   "language": "python",
   "name": "python3"
  },
  "language_info": {
   "codemirror_mode": {
    "name": "ipython",
    "version": 3
   },
   "file_extension": ".py",
   "mimetype": "text/x-python",
   "name": "python",
   "nbconvert_exporter": "python",
   "pygments_lexer": "ipython3",
   "version": "3.9.12"
  }
 },
 "nbformat": 4,
 "nbformat_minor": 5
}
