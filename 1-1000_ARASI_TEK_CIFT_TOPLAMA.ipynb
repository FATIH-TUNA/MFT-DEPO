{
 "cells": [
  {
   "cell_type": "code",
   "execution_count": 1,
   "id": "36ddea4c",
   "metadata": {},
   "outputs": [
    {
     "name": "stdout",
     "output_type": "stream",
     "text": [
      "\n",
      "CIFT SAYILARIN TOPLAMI:  250500\n",
      "\n",
      "TEK SAYILARIN TOPLAMI:  250000\n"
     ]
    }
   ],
   "source": [
    "sayi=0\n",
    "toplam_cift=0\n",
    "toplam_tek=0\n",
    "while(sayi<1000):\n",
    "    sayi=sayi+1\n",
    "    if(sayi%2==0):\n",
    "        toplam_cift+=sayi\n",
    "    \n",
    "    else:\n",
    "        toplam_tek+=sayi\n",
    "print(\"\\nCIFT SAYILARIN TOPLAMI: \",toplam_cift)\n",
    "print(\"\\nTEK SAYILARIN TOPLAMI: \",toplam_tek)\n",
    "        "
   ]
  },
  {
   "cell_type": "code",
   "execution_count": null,
   "id": "0292c7fb",
   "metadata": {},
   "outputs": [],
   "source": []
  }
 ],
 "metadata": {
  "kernelspec": {
   "display_name": "Python 3 (ipykernel)",
   "language": "python",
   "name": "python3"
  },
  "language_info": {
   "codemirror_mode": {
    "name": "ipython",
    "version": 3
   },
   "file_extension": ".py",
   "mimetype": "text/x-python",
   "name": "python",
   "nbconvert_exporter": "python",
   "pygments_lexer": "ipython3",
   "version": "3.9.12"
  }
 },
 "nbformat": 4,
 "nbformat_minor": 5
}
