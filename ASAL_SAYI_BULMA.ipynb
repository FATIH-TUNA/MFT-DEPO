{
 "cells": [
  {
   "cell_type": "code",
   "execution_count": null,
   "id": "a99ff1c5",
   "metadata": {},
   "outputs": [],
   "source": [
    "sayi=int(input(\"\\nBIR SAYI GIRINIZ: \"))\n",
    "i=2\n",
    "while(i<=sayi):\n",
    "    i=i+1\n",
    "    if sayi%i==0:\n",
    "        print(\"\\nSAYI ASAL DEGILDIR...\")\n",
    "        break\n",
    "    else:\n",
    "        print(\"\\nSAYI ASALDIR...\")\n",
    "        break"
   ]
  },
  {
   "cell_type": "code",
   "execution_count": null,
   "id": "c22bb17c",
   "metadata": {},
   "outputs": [],
   "source": []
  },
  {
   "cell_type": "code",
   "execution_count": null,
   "id": "cc6e440f",
   "metadata": {},
   "outputs": [],
   "source": []
  }
 ],
 "metadata": {
  "kernelspec": {
   "display_name": "Python 3 (ipykernel)",
   "language": "python",
   "name": "python3"
  },
  "language_info": {
   "codemirror_mode": {
    "name": "ipython",
    "version": 3
   },
   "file_extension": ".py",
   "mimetype": "text/x-python",
   "name": "python",
   "nbconvert_exporter": "python",
   "pygments_lexer": "ipython3",
   "version": "3.9.12"
  }
 },
 "nbformat": 4,
 "nbformat_minor": 5
}
