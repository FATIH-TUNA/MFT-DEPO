{
 "cells": [
  {
   "cell_type": "code",
   "execution_count": 12,
   "id": "e646f749",
   "metadata": {},
   "outputs": [
    {
     "name": "stdout",
     "output_type": "stream",
     "text": [
      "30\n",
      "\n",
      "10\n",
      "\n",
      "\n",
      "EN BUYUK IKINCI SAYI: 202\n"
     ]
    }
   ],
   "source": [
    "liste=[10,30,25,5,6,100,101,2002,202]\n",
    "x=max(liste[0],liste[1])\n",
    "y=min(liste[0],liste[1])\n",
    "print(x)\n",
    "print()\n",
    "print(y)\n",
    "print()\n",
    "for i in range(len(liste)):\n",
    "    if(liste[i]>x):\n",
    "        y=x\n",
    "        x=liste[i]\n",
    "    elif(liste[i]>y and x!=liste[i]):\n",
    "        y=liste[i]\n",
    "    elif(y==x):\n",
    "        y=liste[i]\n",
    "print(\"\\nEN BUYUK IKINCI SAYI: \"+str(y))"
   ]
  },
  {
   "cell_type": "code",
   "execution_count": null,
   "id": "45a2410a",
   "metadata": {},
   "outputs": [],
   "source": []
  }
 ],
 "metadata": {
  "kernelspec": {
   "display_name": "Python 3 (ipykernel)",
   "language": "python",
   "name": "python3"
  },
  "language_info": {
   "codemirror_mode": {
    "name": "ipython",
    "version": 3
   },
   "file_extension": ".py",
   "mimetype": "text/x-python",
   "name": "python",
   "nbconvert_exporter": "python",
   "pygments_lexer": "ipython3",
   "version": "3.9.12"
  }
 },
 "nbformat": 4,
 "nbformat_minor": 5
}
