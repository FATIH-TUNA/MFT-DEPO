{
 "cells": [
  {
   "cell_type": "code",
   "execution_count": null,
   "id": "b7c674a6",
   "metadata": {},
   "outputs": [
    {
     "name": "stdout",
     "output_type": "stream",
     "text": [
      "\n",
      "LISTE UZUNLUGU BELIRLEYINIZ: 5\n",
      "\n",
      "BBIR SAYI GIRINIZ: 100\n",
      "\n",
      "BBIR SAYI GIRINIZ: 89\n",
      "\n",
      "BBIR SAYI GIRINIZ: 1\n",
      "\n",
      "BBIR SAYI GIRINIZ: 5\n",
      "\n",
      "BBIR SAYI GIRINIZ: 4\n",
      "[100, 89, 5, 4, 1]\n",
      "LISTEDEKI EN BUYUK ELEMAN:  100\n",
      "\n",
      "LISTEDEKI EN KUCUK ELEMAN:  1\n",
      "\n",
      "LISTEDEKI EN BUYUK IKINCI ELEMAN:  89\n"
     ]
    }
   ],
   "source": [
    "def SIRALA(y=list(),x=len(list())):\n",
    "    for i in range(x):\n",
    "        for j in range(x):\n",
    "            if(y[i]>y[j]):\n",
    "                t=y[i]\n",
    "                y[i]=y[j]\n",
    "                y[j]=t\n",
    "liste=list()\n",
    "while True:\n",
    "    uzunluk=int(input(\"\\nLISTE UZUNLUGU BELIRLEYINIZ: \"))\n",
    "    for i in range(uzunluk):\n",
    "        sayi=int(input(\"\\nBBIR SAYI GIRINIZ: \"))\n",
    "        liste.append(sayi)\n",
    "        SIRALA(liste,len(liste))\n",
    "    print(liste)\n",
    "    print(\"LISTEDEKI EN BUYUK ELEMAN: \",liste[0])\n",
    "    print(\"\\nLISTEDEKI EN KUCUK ELEMAN: \",liste[-1])\n",
    "    print(\"\\nLISTEDEKI EN BUYUK IKINCI ELEMAN: \",liste[1])\n",
    "    cevap=str(input(\"\\nISLEM DEVAM ETSIN MI: \")).upper()\n",
    "    if(cevap=='E'):\n",
    "        continue\n",
    "    else:\n",
    "        break"
   ]
  },
  {
   "cell_type": "code",
   "execution_count": null,
   "id": "41e77009",
   "metadata": {},
   "outputs": [],
   "source": []
  },
  {
   "cell_type": "code",
   "execution_count": null,
   "id": "17a24585",
   "metadata": {},
   "outputs": [],
   "source": []
  }
 ],
 "metadata": {
  "kernelspec": {
   "display_name": "Python 3 (ipykernel)",
   "language": "python",
   "name": "python3"
  },
  "language_info": {
   "codemirror_mode": {
    "name": "ipython",
    "version": 3
   },
   "file_extension": ".py",
   "mimetype": "text/x-python",
   "name": "python",
   "nbconvert_exporter": "python",
   "pygments_lexer": "ipython3",
   "version": "3.9.12"
  }
 },
 "nbformat": 4,
 "nbformat_minor": 5
}
