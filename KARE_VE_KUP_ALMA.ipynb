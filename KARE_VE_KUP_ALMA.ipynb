{
 "cells": [
  {
   "cell_type": "code",
   "execution_count": null,
   "id": "79ee28aa",
   "metadata": {},
   "outputs": [
    {
     "name": "stdout",
     "output_type": "stream",
     "text": [
      "\n",
      "BIR SAYI GIRINIZ: 5\n",
      "\n",
      "KARESI ALINAN SAYILARIN TOPLAMI: 1\n",
      "\n",
      "KUPU ALINAN SAYILARIN TOPLAMI: 8\n",
      "\n",
      "KARESI ALINAN SAYILARIN TOPLAMI: 10\n",
      "\n",
      "KUPU ALINAN SAYILARIN TOPLAMI: 72\n",
      "\n",
      "KARESI ALINAN SAYILARIN TOPLAMI: 35\n"
     ]
    }
   ],
   "source": [
    "while True:\n",
    "    sayi=int(input(\"\\nBIR SAYI GIRINIZ: \"))\n",
    "    x=0\n",
    "    toplam_kup=0\n",
    "    toplam_kare=0\n",
    "    while(x<sayi):\n",
    "        x=x+1\n",
    "        if(x%2==0):\n",
    "            toplam_kup=toplam_kup+x**3\n",
    "            print(f\"\\nKUPU ALINAN SAYILARIN TOPLAMI: {toplam_kup}\")\n",
    "        else:\n",
    "            toplam_kare=toplam_kare+x**2\n",
    "        #print(f\"\\nKUPU ALINAN SAYILARIN TOPLAMI: {toplam_kup}\")\n",
    "            print(f\"\\nKARESI ALINAN SAYILARIN TOPLAMI: {toplam_kare}\")\n",
    "            \n",
    "    cevap=str(input(\"\\nISLEM DEVAM ETSIN MI: \")).upper()\n",
    "    if(cevap=='E'):\n",
    "        continue\n",
    "    else:\n",
    "        break"
   ]
  },
  {
   "cell_type": "code",
   "execution_count": null,
   "id": "47ff46ba",
   "metadata": {},
   "outputs": [],
   "source": []
  }
 ],
 "metadata": {
  "kernelspec": {
   "display_name": "Python 3 (ipykernel)",
   "language": "python",
   "name": "python3"
  },
  "language_info": {
   "codemirror_mode": {
    "name": "ipython",
    "version": 3
   },
   "file_extension": ".py",
   "mimetype": "text/x-python",
   "name": "python",
   "nbconvert_exporter": "python",
   "pygments_lexer": "ipython3",
   "version": "3.9.12"
  }
 },
 "nbformat": 4,
 "nbformat_minor": 5
}
