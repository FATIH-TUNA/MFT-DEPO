{
 "cells": [
  {
   "cell_type": "code",
   "execution_count": 1,
   "id": "9cfe8ba2",
   "metadata": {},
   "outputs": [],
   "source": [
    "from PyQt5.QtCore import*\n",
    "from PyQt5.QtGui import*\n",
    "from PyQt5.QtWidgets import*\n",
    "import sys\n",
    "import qrcode\n",
    "import image"
   ]
  },
  {
   "cell_type": "code",
   "execution_count": 2,
   "id": "bb1834cd",
   "metadata": {},
   "outputs": [
    {
     "ename": "SystemExit",
     "evalue": "0",
     "output_type": "error",
     "traceback": [
      "An exception has occurred, use %tb to see the full traceback.\n",
      "\u001b[1;31mSystemExit\u001b[0m\u001b[1;31m:\u001b[0m 0\n"
     ]
    },
    {
     "name": "stderr",
     "output_type": "stream",
     "text": [
      "C:\\Users\\LENOVO\\anaconda3\\lib\\site-packages\\IPython\\core\\interactiveshell.py:3377: UserWarning: To exit: use 'exit', 'quit', or Ctrl-D.\n",
      "  warn(\"To exit: use 'exit', 'quit', or Ctrl-D.\", stacklevel=1)\n"
     ]
    }
   ],
   "source": [
    "class deneme(QDialog):\n",
    "    def __init__(self):\n",
    "        super().__init__()\n",
    "        self.qr=qrcode.QRCode(version=1,error_correction=qrcode.constants.ERROR_CORRECT_L,box_size=20,border=5)\n",
    "        self.izgara=QGridLayout()\n",
    "        \n",
    "        self.izgara.addWidget(QLabel(\"\\nVERI GIRINIZ: \"),0,0)\n",
    "        self.veri=QLineEdit()\n",
    "        self.izgara.addWidget(self.veri,0,1)\n",
    "        \n",
    "        self.izgara.addWidget(QLabel(\"\\nBASLIK EKLE: \"),1,0)\n",
    "        self.ekle=QLineEdit()\n",
    "        self.izgara.addWidget(self.ekle,1,1)\n",
    "        \n",
    "        self.buton=QPushButton(\"TIKLA\")\n",
    "        self.izgara.addWidget(self.buton,2,0)\n",
    "        self.buton.clicked.connect(self.tikla)\n",
    "        \n",
    "    \n",
    "        self.setLayout(self.izgara)\n",
    "        self.setWindowTitle(\"MFT\")\n",
    "        self.setGeometry(100,100,500,500)\n",
    "    def tikla(self):\n",
    "        self.giris=str(self.veri.text())\n",
    "        self.baslik=str(self.ekle.text())\n",
    "        self.qr.add_data(self.giris)\n",
    "        self.qr.make(fit=True)\n",
    "        self.resim=self.qr.make_image(fill_color='black',back_color='white')\n",
    "        self.resim.save(self.baslik)\n",
    "        \n",
    "\n",
    "app=QApplication(sys.argv)\n",
    "pencere=deneme()\n",
    "pencere.show()\n",
    "sys.exit(app.exec_())"
   ]
  },
  {
   "cell_type": "code",
   "execution_count": null,
   "id": "cdf01a99",
   "metadata": {},
   "outputs": [],
   "source": []
  }
 ],
 "metadata": {
  "kernelspec": {
   "display_name": "Python 3 (ipykernel)",
   "language": "python",
   "name": "python3"
  },
  "language_info": {
   "codemirror_mode": {
    "name": "ipython",
    "version": 3
   },
   "file_extension": ".py",
   "mimetype": "text/x-python",
   "name": "python",
   "nbconvert_exporter": "python",
   "pygments_lexer": "ipython3",
   "version": "3.9.12"
  }
 },
 "nbformat": 4,
 "nbformat_minor": 5
}
