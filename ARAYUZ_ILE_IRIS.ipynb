{
 "cells": [
  {
   "cell_type": "code",
   "execution_count": 1,
   "id": "32fc174d",
   "metadata": {},
   "outputs": [],
   "source": [
    "from PyQt5.QtGui import*\n",
    "from PyQt5.QtCore import*\n",
    "from PyQt5.QtWidgets import*\n",
    "import sys\n",
    "import pandas as pd\n",
    "import numpy as np\n",
    "import matplotlib.pyplot as plt\n",
    "import seaborn as sns\n",
    "from sklearn.naive_bayes import GaussianNB\n",
    "from sklearn.model_selection import train_test_split\n",
    "from sklearn.metrics import*\n",
    "from sklearn.preprocessing import LabelEncoder\n",
    "from sklearn.model_selection import GridSearchCV"
   ]
  },
  {
   "cell_type": "code",
   "execution_count": 2,
   "id": "055c09ec",
   "metadata": {},
   "outputs": [
    {
     "name": "stdout",
     "output_type": "stream",
     "text": [
      "\n",
      "DOGRULUK ORANI: 0.94\n",
      "\n",
      "DOGRULUK ORANI: 0.98\n"
     ]
    },
    {
     "name": "stderr",
     "output_type": "stream",
     "text": [
      "C:\\Users\\LENOVO\\anaconda3\\lib\\site-packages\\sklearn\\base.py:450: UserWarning: X does not have valid feature names, but GaussianNB was fitted with feature names\n",
      "  warnings.warn(\n"
     ]
    },
    {
     "ename": "SystemExit",
     "evalue": "0",
     "output_type": "error",
     "traceback": [
      "An exception has occurred, use %tb to see the full traceback.\n",
      "\u001b[1;31mSystemExit\u001b[0m\u001b[1;31m:\u001b[0m 0\n"
     ]
    },
    {
     "name": "stderr",
     "output_type": "stream",
     "text": [
      "C:\\Users\\LENOVO\\anaconda3\\lib\\site-packages\\IPython\\core\\interactiveshell.py:3377: UserWarning: To exit: use 'exit', 'quit', or Ctrl-D.\n",
      "  warn(\"To exit: use 'exit', 'quit', or Ctrl-D.\", stacklevel=1)\n"
     ]
    }
   ],
   "source": [
    "class deneme(QDialog):\n",
    "    def __init__(self):\n",
    "        super().__init__()\n",
    "        veri=sns.load_dataset('iris')\n",
    "        x=veri[['sepal_length','sepal_width','petal_length','petal_width']]\n",
    "        y=veri['species']\n",
    "        self.le=LabelEncoder()\n",
    "        y=self.le.fit_transform(y)\n",
    "        x_egitim,x_test,y_egitim,y_test=train_test_split(x,y,test_size=0.30,random_state=42)\n",
    "        \n",
    "        model_nb=GaussianNB()\n",
    "        param={}\n",
    "        skor={'Accuracy':'accuracy'}\n",
    "        self.nb=GridSearchCV(model_nb,return_train_score=True,param_grid=param,scoring=skor,cv=5,refit='Accuracy')\n",
    "        self.nb.fit(x_egitim,y_egitim)\n",
    "        tahmin_egitim=self.nb.best_estimator_.predict(x_egitim)\n",
    "        print(\"\\nDOGRULUK ORANI: %.2f\"%accuracy_score(y_egitim,tahmin_egitim))\n",
    "        \n",
    "        tahmin_test=self.nb.best_estimator_.predict(x_test)\n",
    "        print(\"\\nDOGRULUK ORANI: %.2f\"%accuracy_score(y_test,tahmin_test))\n",
    "        \n",
    "        \n",
    "        self.izgara=QGridLayout()\n",
    "        self.izgara.addWidget(QLabel(\"\\nSEPAL UZUNLUK: \"),0,0)\n",
    "        self.sepal1=QLineEdit()\n",
    "        self.izgara.addWidget(self.sepal1,0,1)\n",
    "        \n",
    "        self.izgara.addWidget(QLabel(\"\\nSEPAL GENISLIK: \"),1,0)\n",
    "        self.sepal2=QLineEdit()\n",
    "        self.izgara.addWidget(self.sepal2,1,1)\n",
    "        \n",
    "        self.izgara.addWidget(QLabel(\"\\nPETAL UZUNLUK: \"),2,0)\n",
    "        self.petal1=QLineEdit()\n",
    "        self.izgara.addWidget(self.petal1,2,1)\n",
    "        \n",
    "        self.izgara.addWidget(QLabel(\"\\nPETAL GENISLIK: \"),3,0)\n",
    "        self.petal2=QLineEdit()\n",
    "        self.izgara.addWidget(self.petal2,3,1)\n",
    "\n",
    "        self.izgara.addWidget(QLabel(\"\\nSONUC: \"),4,0)\n",
    "        self.sonuc=QLabel(\"<b><font color='red'>SONUC BOLUMU...</b></font>\")\n",
    "        self.izgara.addWidget(self.sonuc,4,1)\n",
    "        \n",
    "        self.buton=QPushButton(\"GAUSSIAN\")\n",
    "        self.buton.clicked.connect(self.tikla)\n",
    "        self.izgara.addWidget(self.buton,5,0,1,2)\n",
    "        \n",
    "        self.setLayout(self.izgara)\n",
    "        self.setWindowTitle(\"MFT\")\n",
    "        self.setGeometry(100,100,600,600)\n",
    "    def tikla(self):\n",
    "        liste=[]\n",
    "        self.islem1=float(self.sepal1.text())\n",
    "        self.islem2=float(self.sepal2.text())\n",
    "        self.islem3=float(self.petal1.text())\n",
    "        self.islem4=float(self.petal2.text())\n",
    "        liste.append(self.islem1)\n",
    "        liste.append(self.islem2)\n",
    "        liste.append(self.islem3)\n",
    "        liste.append(self.islem4)\n",
    "        dene=np.array([liste])\n",
    "        tahmin_dene=self.nb.best_estimator_.predict(dene)\n",
    "        tahmin_dene=self.le.inverse_transform(tahmin_dene)\n",
    "        \n",
    "        self.sonuc.setText(\"<font color = 'red'><b>%s</b></font>\"%str(tahmin_dene))\n",
    "        \n",
    "        \n",
    "        \n",
    "        \n",
    "        \n",
    "app=QApplication(sys.argv)\n",
    "pencere=deneme()\n",
    "pencere.show()\n",
    "sys.exit(app.exec_())"
   ]
  },
  {
   "cell_type": "code",
   "execution_count": null,
   "id": "d6f6a58a",
   "metadata": {},
   "outputs": [],
   "source": []
  }
 ],
 "metadata": {
  "kernelspec": {
   "display_name": "Python 3 (ipykernel)",
   "language": "python",
   "name": "python3"
  },
  "language_info": {
   "codemirror_mode": {
    "name": "ipython",
    "version": 3
   },
   "file_extension": ".py",
   "mimetype": "text/x-python",
   "name": "python",
   "nbconvert_exporter": "python",
   "pygments_lexer": "ipython3",
   "version": "3.9.12"
  }
 },
 "nbformat": 4,
 "nbformat_minor": 5
}
