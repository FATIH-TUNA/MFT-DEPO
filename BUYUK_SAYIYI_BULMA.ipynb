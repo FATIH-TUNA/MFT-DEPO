{
 "cells": [
  {
   "cell_type": "code",
   "execution_count": null,
   "id": "f5818eb6",
   "metadata": {},
   "outputs": [],
   "source": [
    "x=int(input(\"\\nBIRINCI SAYIYI GIRNIZ: \"))\n",
    "y=int(input(\"\\nIKINCI SAYIYI GIRINIZ: \"))\n",
    "print(x>y)\n",
    "print()\n",
    "print(x==y)\n",
    "print()\n",
    "print(x<y)"
   ]
  },
  {
   "cell_type": "code",
   "execution_count": null,
   "id": "45aced47",
   "metadata": {},
   "outputs": [],
   "source": []
  },
  {
   "cell_type": "code",
   "execution_count": null,
   "id": "376ce331",
   "metadata": {},
   "outputs": [],
   "source": []
  }
 ],
 "metadata": {
  "kernelspec": {
   "display_name": "Python 3 (ipykernel)",
   "language": "python",
   "name": "python3"
  },
  "language_info": {
   "codemirror_mode": {
    "name": "ipython",
    "version": 3
   },
   "file_extension": ".py",
   "mimetype": "text/x-python",
   "name": "python",
   "nbconvert_exporter": "python",
   "pygments_lexer": "ipython3",
   "version": "3.9.12"
  }
 },
 "nbformat": 4,
 "nbformat_minor": 5
}
