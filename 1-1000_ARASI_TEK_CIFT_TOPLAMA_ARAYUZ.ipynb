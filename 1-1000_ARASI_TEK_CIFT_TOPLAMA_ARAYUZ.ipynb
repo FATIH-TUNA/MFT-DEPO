{
 "cells": [
  {
   "cell_type": "code",
   "execution_count": 1,
   "id": "dabc7255",
   "metadata": {},
   "outputs": [],
   "source": [
    "from PyQt5.QtGui import*\n",
    "from PyQt5.QtCore import*\n",
    "from PyQt5.QtWidgets import*\n",
    "import sys"
   ]
  },
  {
   "cell_type": "code",
   "execution_count": 2,
   "id": "df80b5d1",
   "metadata": {},
   "outputs": [
    {
     "ename": "SystemExit",
     "evalue": "0",
     "output_type": "error",
     "traceback": [
      "An exception has occurred, use %tb to see the full traceback.\n",
      "\u001b[1;31mSystemExit\u001b[0m\u001b[1;31m:\u001b[0m 0\n"
     ]
    },
    {
     "name": "stderr",
     "output_type": "stream",
     "text": [
      "C:\\Users\\LENOVO\\anaconda3\\lib\\site-packages\\IPython\\core\\interactiveshell.py:3377: UserWarning: To exit: use 'exit', 'quit', or Ctrl-D.\n",
      "  warn(\"To exit: use 'exit', 'quit', or Ctrl-D.\", stacklevel=1)\n"
     ]
    }
   ],
   "source": [
    "class deneme(QDialog):\n",
    "    def __init__(self):\n",
    "        super().__init__()\n",
    "        self.izgara=QGridLayout()\n",
    "        \n",
    "        \n",
    "        self.izgara.addWidget(QLabel(\"\\n1000 E KADAR CIFT SAYILARI TOPLA: \"),0,0)\n",
    "        self.sonuc1=QLabel(\"<i><font color='red'>CIFT SAYILAR TOPLAMI...</i></font>\")\n",
    "        self.izgara.addWidget(self.sonuc1,0,1)\n",
    "        \n",
    "        self.izgara.addWidget(QLabel(\"\\n1000 E KADAR TEK SAYILAR TOPLAMI: \"),1,0)\n",
    "        self.sonuc2=QLabel(\"<i><font color='red'>TEK SAYILAR TOPLAMI...</i></font>\")\n",
    "        self.izgara.addWidget(self.sonuc2,1,1)\n",
    "        \n",
    "        self.buton=QPushButton(\"TIKLA\")\n",
    "        self.buton.clicked.connect(self.tikla)\n",
    "        self.izgara.addWidget(self.buton,2,0)\n",
    "        \n",
    "        self.setLayout(self.izgara)\n",
    "        self.setWindowTitle(\"MFT\")\n",
    "        self.setGeometry(100,100,400,400)\n",
    "    def tikla(self):\n",
    "        self.liste1=[]\n",
    "        self.liste2=[]\n",
    "        self.x=0\n",
    "        while(self.x<=1000):\n",
    "            self.x=self.x+1\n",
    "            if(self.x%2==0):\n",
    "                self.liste1.append(self.x)\n",
    "            else:\n",
    "                self.liste2.append(self.x)\n",
    "                \n",
    "                self.islem1=sum(self.liste1)\n",
    "                self.islem2=sum(self.liste2)\n",
    "                self.sonuc1.setText(\"<font color='red'><b>%d</b></font>\"%self.islem1)\n",
    "                self.sonuc2.setText(\"<font color='red'><b>%d</b></font>\"%self.islem2)\n",
    "                \n",
    "                \n",
    "        \n",
    "app=QApplication(sys.argv)\n",
    "pencere=deneme()\n",
    "pencere.show()\n",
    "sys.exit(app.exec_())"
   ]
  },
  {
   "cell_type": "code",
   "execution_count": null,
   "id": "f61a0909",
   "metadata": {},
   "outputs": [],
   "source": []
  }
 ],
 "metadata": {
  "kernelspec": {
   "display_name": "Python 3 (ipykernel)",
   "language": "python",
   "name": "python3"
  },
  "language_info": {
   "codemirror_mode": {
    "name": "ipython",
    "version": 3
   },
   "file_extension": ".py",
   "mimetype": "text/x-python",
   "name": "python",
   "nbconvert_exporter": "python",
   "pygments_lexer": "ipython3",
   "version": "3.9.12"
  }
 },
 "nbformat": 4,
 "nbformat_minor": 5
}
