{
 "cells": [
  {
   "cell_type": "code",
   "execution_count": null,
   "id": "ff4ab998",
   "metadata": {},
   "outputs": [],
   "source": [
    "while True:\n",
    "    liste=[]\n",
    "    sayi=int(input(\"\\nBIR SAYI GIRINIZ: \"))\n",
    "    i=0\n",
    "    while(i<=sayi):\n",
    "        i=i+1\n",
    "        if(i%3==0 and i%5==0):\n",
    "            liste.append(i)\n",
    "    print(liste)\n",
    "    cevap=str(input(\"\\nISLEM DEVAM ETSIN MI: \")).upper()\n",
    "    if(cevap=='E'):\n",
    "        continue\n",
    "    else:\n",
    "        break"
   ]
  },
  {
   "cell_type": "code",
   "execution_count": null,
   "id": "14281ff2",
   "metadata": {},
   "outputs": [],
   "source": []
  },
  {
   "cell_type": "code",
   "execution_count": null,
   "id": "4f614ecc",
   "metadata": {},
   "outputs": [],
   "source": []
  }
 ],
 "metadata": {
  "kernelspec": {
   "display_name": "Python 3 (ipykernel)",
   "language": "python",
   "name": "python3"
  },
  "language_info": {
   "codemirror_mode": {
    "name": "ipython",
    "version": 3
   },
   "file_extension": ".py",
   "mimetype": "text/x-python",
   "name": "python",
   "nbconvert_exporter": "python",
   "pygments_lexer": "ipython3",
   "version": "3.9.12"
  }
 },
 "nbformat": 4,
 "nbformat_minor": 5
}
