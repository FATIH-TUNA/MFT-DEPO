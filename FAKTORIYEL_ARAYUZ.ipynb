{
 "cells": [
  {
   "cell_type": "code",
   "execution_count": 1,
   "id": "6e5376fb",
   "metadata": {},
   "outputs": [],
   "source": [
    "from PyQt5.QtCore import*\n",
    "from PyQt5.QtGui import*\n",
    "from PyQt5.QtWidgets import*\n",
    "import sys"
   ]
  },
  {
   "cell_type": "code",
   "execution_count": 2,
   "id": "c8c1e106",
   "metadata": {},
   "outputs": [
    {
     "ename": "SystemExit",
     "evalue": "0",
     "output_type": "error",
     "traceback": [
      "An exception has occurred, use %tb to see the full traceback.\n",
      "\u001b[1;31mSystemExit\u001b[0m\u001b[1;31m:\u001b[0m 0\n"
     ]
    },
    {
     "name": "stderr",
     "output_type": "stream",
     "text": [
      "C:\\Users\\LENOVO\\anaconda3\\lib\\site-packages\\IPython\\core\\interactiveshell.py:3377: UserWarning: To exit: use 'exit', 'quit', or Ctrl-D.\n",
      "  warn(\"To exit: use 'exit', 'quit', or Ctrl-D.\", stacklevel=1)\n"
     ]
    }
   ],
   "source": [
    "class deneme(QDialog):\n",
    "    def __init__(self):\n",
    "        super().__init__()\n",
    "        self.izgara=QGridLayout()\n",
    "        \n",
    "        self.izgara.addWidget(QLabel(\"\\nBIR SAYI GIRINIZ: \"),0,0)\n",
    "        self.sayi=QLineEdit()\n",
    "        self.izgara.addWidget(self.sayi,0,1)\n",
    "        \n",
    "        self.buton=QPushButton(\"TIKLA\")\n",
    "        self.izgara.addWidget(self.buton,3,0)\n",
    "        self.buton.clicked.connect(self.tikla)\n",
    "        \n",
    "        self.izgara.addWidget(QLabel(\"SONUC: \"),4,0)\n",
    "        self.sonuc=QLabel(\"<font color='red'>SONUC BOLUMU...</font>\")\n",
    "        self.izgara.addWidget(self.sonuc,4,1)\n",
    "        \n",
    "        self.setLayout(self.izgara)\n",
    "        self.setWindowTitle(\"MFT\")\n",
    "        self.setGeometry(100,100,400,400)\n",
    "    def tikla(self):\n",
    "        self.deger=int(self.sayi.text())\n",
    "        self.faktoriyel=1\n",
    "        for self.i in range(1,self.deger+1):\n",
    "            self.faktoriyel*=self.i\n",
    "            self.sonuc.setText(str(self.faktoriyel))\n",
    "\n",
    "        \n",
    "app=QApplication(sys.argv)\n",
    "pencere=deneme()\n",
    "pencere.show()\n",
    "sys.exit(app.exec_())"
   ]
  },
  {
   "cell_type": "code",
   "execution_count": null,
   "id": "2b07e6d6",
   "metadata": {},
   "outputs": [],
   "source": []
  }
 ],
 "metadata": {
  "kernelspec": {
   "display_name": "Python 3 (ipykernel)",
   "language": "python",
   "name": "python3"
  },
  "language_info": {
   "codemirror_mode": {
    "name": "ipython",
    "version": 3
   },
   "file_extension": ".py",
   "mimetype": "text/x-python",
   "name": "python",
   "nbconvert_exporter": "python",
   "pygments_lexer": "ipython3",
   "version": "3.9.12"
  }
 },
 "nbformat": 4,
 "nbformat_minor": 5
}
