{
 "cells": [
  {
   "cell_type": "code",
   "execution_count": null,
   "id": "55186343",
   "metadata": {},
   "outputs": [],
   "source": []
  },
  {
   "cell_type": "code",
   "execution_count": 3,
   "id": "a842bcf1",
   "metadata": {},
   "outputs": [
    {
     "name": "stdout",
     "output_type": "stream",
     "text": [
      "4\n",
      "7\n",
      "8\n",
      "74\n",
      "78\n",
      "74\n",
      "[7, 8, 74, 78]\n"
     ]
    }
   ],
   "source": [
    "n=int(input())\n",
    "liste=[]\n",
    "while(2<=n<=10 and -100<=len(liste)<=100):\n",
    "    for i in range(n):\n",
    "        sayi=int(input())\n",
    "        liste.append(sayi)\n",
    "        \n",
    "    x=max(liste[0],liste[1])\n",
    "    y=min(liste[0],liste[1])\n",
    "    a=len(liste)\n",
    "    for i in range(2,a):\n",
    "        if(liste[i]>x):\n",
    "            y=x\n",
    "            x=liste[i]\n",
    "        elif(liste[1]>y and x!=liste[i]):\n",
    "            y=liste[i]\n",
    "        else:\n",
    "            if y==x:\n",
    "                y=liste[i]\n",
    "    print(\"\\nEN BUYU IKINCI SAYI: \",str(y))\n",
    "    print()\n",
    "    print(liste)\n",
    "    break\n",
    "            \n",
    "        "
   ]
  },
  {
   "cell_type": "code",
   "execution_count": null,
   "id": "57f78efd",
   "metadata": {},
   "outputs": [],
   "source": []
  },
  {
   "cell_type": "code",
   "execution_count": null,
   "id": "5ef3fd00",
   "metadata": {},
   "outputs": [],
   "source": []
  },
  {
   "cell_type": "code",
   "execution_count": null,
   "id": "71ff4e8d",
   "metadata": {},
   "outputs": [],
   "source": []
  },
  {
   "cell_type": "code",
   "execution_count": null,
   "id": "d41f2a67",
   "metadata": {},
   "outputs": [],
   "source": []
  },
  {
   "cell_type": "code",
   "execution_count": null,
   "id": "6b968184",
   "metadata": {},
   "outputs": [],
   "source": []
  },
  {
   "cell_type": "code",
   "execution_count": null,
   "id": "43dc0f81",
   "metadata": {},
   "outputs": [],
   "source": []
  },
  {
   "cell_type": "code",
   "execution_count": null,
   "id": "137abd4a",
   "metadata": {},
   "outputs": [],
   "source": []
  },
  {
   "cell_type": "code",
   "execution_count": null,
   "id": "30007d90",
   "metadata": {},
   "outputs": [],
   "source": []
  },
  {
   "cell_type": "code",
   "execution_count": null,
   "id": "c38d1a6c",
   "metadata": {},
   "outputs": [],
   "source": []
  },
  {
   "cell_type": "code",
   "execution_count": null,
   "id": "ea9cdbf8",
   "metadata": {},
   "outputs": [],
   "source": []
  }
 ],
 "metadata": {
  "kernelspec": {
   "display_name": "Python 3 (ipykernel)",
   "language": "python",
   "name": "python3"
  },
  "language_info": {
   "codemirror_mode": {
    "name": "ipython",
    "version": 3
   },
   "file_extension": ".py",
   "mimetype": "text/x-python",
   "name": "python",
   "nbconvert_exporter": "python",
   "pygments_lexer": "ipython3",
   "version": "3.9.12"
  }
 },
 "nbformat": 4,
 "nbformat_minor": 5
}
