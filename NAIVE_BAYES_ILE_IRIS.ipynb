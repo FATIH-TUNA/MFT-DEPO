{
 "cells": [
  {
   "cell_type": "code",
   "execution_count": 1,
   "id": "c2a96051",
   "metadata": {},
   "outputs": [],
   "source": [
    "import pandas as pd\n",
    "import numpy as np\n",
    "import matplotlib.pyplot as plt\n",
    "import seaborn as sns\n",
    "from sklearn.model_selection import train_test_split\n",
    "from sklearn.preprocessing import LabelEncoder\n",
    "from sklearn.model_selection import GridSearchCV\n",
    "from sklearn.linear_model import LogisticRegression\n",
    "from sklearn.naive_bayes import GaussianNB"
   ]
  },
  {
   "cell_type": "code",
   "execution_count": 2,
   "id": "851ee43b",
   "metadata": {},
   "outputs": [
    {
     "data": {
      "text/html": [
       "<div>\n",
       "<style scoped>\n",
       "    .dataframe tbody tr th:only-of-type {\n",
       "        vertical-align: middle;\n",
       "    }\n",
       "\n",
       "    .dataframe tbody tr th {\n",
       "        vertical-align: top;\n",
       "    }\n",
       "\n",
       "    .dataframe thead th {\n",
       "        text-align: right;\n",
       "    }\n",
       "</style>\n",
       "<table border=\"1\" class=\"dataframe\">\n",
       "  <thead>\n",
       "    <tr style=\"text-align: right;\">\n",
       "      <th></th>\n",
       "      <th>sepal_length</th>\n",
       "      <th>sepal_width</th>\n",
       "      <th>petal_length</th>\n",
       "      <th>petal_width</th>\n",
       "      <th>species</th>\n",
       "    </tr>\n",
       "  </thead>\n",
       "  <tbody>\n",
       "    <tr>\n",
       "      <th>0</th>\n",
       "      <td>5.1</td>\n",
       "      <td>3.5</td>\n",
       "      <td>1.4</td>\n",
       "      <td>0.2</td>\n",
       "      <td>setosa</td>\n",
       "    </tr>\n",
       "    <tr>\n",
       "      <th>1</th>\n",
       "      <td>4.9</td>\n",
       "      <td>3.0</td>\n",
       "      <td>1.4</td>\n",
       "      <td>0.2</td>\n",
       "      <td>setosa</td>\n",
       "    </tr>\n",
       "    <tr>\n",
       "      <th>2</th>\n",
       "      <td>4.7</td>\n",
       "      <td>3.2</td>\n",
       "      <td>1.3</td>\n",
       "      <td>0.2</td>\n",
       "      <td>setosa</td>\n",
       "    </tr>\n",
       "    <tr>\n",
       "      <th>3</th>\n",
       "      <td>4.6</td>\n",
       "      <td>3.1</td>\n",
       "      <td>1.5</td>\n",
       "      <td>0.2</td>\n",
       "      <td>setosa</td>\n",
       "    </tr>\n",
       "    <tr>\n",
       "      <th>4</th>\n",
       "      <td>5.0</td>\n",
       "      <td>3.6</td>\n",
       "      <td>1.4</td>\n",
       "      <td>0.2</td>\n",
       "      <td>setosa</td>\n",
       "    </tr>\n",
       "  </tbody>\n",
       "</table>\n",
       "</div>"
      ],
      "text/plain": [
       "   sepal_length  sepal_width  petal_length  petal_width species\n",
       "0           5.1          3.5           1.4          0.2  setosa\n",
       "1           4.9          3.0           1.4          0.2  setosa\n",
       "2           4.7          3.2           1.3          0.2  setosa\n",
       "3           4.6          3.1           1.5          0.2  setosa\n",
       "4           5.0          3.6           1.4          0.2  setosa"
      ]
     },
     "execution_count": 2,
     "metadata": {},
     "output_type": "execute_result"
    }
   ],
   "source": [
    "veri=sns.load_dataset('iris')\n",
    "veri.head()"
   ]
  },
  {
   "cell_type": "code",
   "execution_count": 3,
   "id": "31767a67",
   "metadata": {},
   "outputs": [],
   "source": [
    "x=veri[['sepal_length','sepal_width','petal_length','petal_width']]\n",
    "y=veri['species']\n",
    "le=LabelEncoder()\n",
    "y=le.fit_transform(y)\n",
    "x_egitim,x_test,y_egitim,y_test=train_test_split(x,y,test_size=0.30,random_state=42)"
   ]
  },
  {
   "cell_type": "code",
   "execution_count": 4,
   "id": "1e417e62",
   "metadata": {},
   "outputs": [
    {
     "data": {
      "text/plain": [
       "GridSearchCV(cv=5, estimator=GaussianNB(), param_grid={}, refit='Accuracy',\n",
       "             return_train_score=True, scoring={'Accuracy': 'accuracy'})"
      ]
     },
     "execution_count": 4,
     "metadata": {},
     "output_type": "execute_result"
    }
   ],
   "source": [
    "model_nb=GaussianNB()\n",
    "param={}\n",
    "skor={'Accuracy':'accuracy'}\n",
    "nb=GridSearchCV(model_nb,return_train_score=True,param_grid=param,scoring=skor,cv=5,refit='Accuracy')\n",
    "nb.fit(x_egitim,y_egitim)"
   ]
  },
  {
   "cell_type": "code",
   "execution_count": 5,
   "id": "0d47c05e",
   "metadata": {},
   "outputs": [
    {
     "name": "stdout",
     "output_type": "stream",
     "text": [
      "\n",
      "DOGRULUK ORANI: 0.94\n"
     ]
    }
   ],
   "source": [
    "from sklearn.metrics import*\n",
    "tahmin_egitim=nb.best_estimator_.predict(x_egitim)\n",
    "print(\"\\nDOGRULUK ORANI: %.2f\"%accuracy_score(y_egitim,tahmin_egitim))"
   ]
  },
  {
   "cell_type": "code",
   "execution_count": 6,
   "id": "b37e352f",
   "metadata": {},
   "outputs": [
    {
     "name": "stdout",
     "output_type": "stream",
     "text": [
      "\n",
      "DOGRULUK ORANI: 0.98\n"
     ]
    }
   ],
   "source": [
    "tahmin_test=nb.best_estimator_.predict(x_test)\n",
    "print(\"\\nDOGRULUK ORANI: %.2f\"%accuracy_score(y_test,tahmin_test))"
   ]
  },
  {
   "cell_type": "code",
   "execution_count": null,
   "id": "f69292e0",
   "metadata": {},
   "outputs": [],
   "source": [
    "\n",
    "while True:\n",
    "    liste=[]\n",
    "    sepal_length=float(input(\"\\nSEPAL UZUNLUK GIRNIZ: \"))\n",
    "    sepal_width=float(input(\"\\nSEPAL GENISLIK GIRINIZ: \"))\n",
    "    petal_length=float(input(\"\\nPETAL UZUNLUK GIRINIZ: \"))\n",
    "    petal_width=float(input(\"\\nPETAL GENISLIK GIRINIZ: \"))\n",
    "    liste.append(sepal_length)\n",
    "    liste.append(sepal_width)\n",
    "    liste.append(petal_length)\n",
    "    liste.append(petal_width)\n",
    "    dene=np.array([liste])\n",
    "    tahmin_dene=nb.best_estimator_.predict(dene)\n",
    "    tahmin_dene=le.inverse_transform(tahmin_dene)\n",
    "    print(tahmin_dene)\n",
    "    cevap=str(input(\"\\nISLEM DEVAM ETSIN MI: \")).upper()\n",
    "    if(cevap=='E'):\n",
    "        continue\n",
    "    else:\n",
    "        break"
   ]
  },
  {
   "cell_type": "code",
   "execution_count": null,
   "id": "a110893d",
   "metadata": {},
   "outputs": [],
   "source": []
  },
  {
   "cell_type": "code",
   "execution_count": null,
   "id": "0d68fb29",
   "metadata": {},
   "outputs": [],
   "source": []
  },
  {
   "cell_type": "code",
   "execution_count": null,
   "id": "b2d4f860",
   "metadata": {},
   "outputs": [],
   "source": []
  }
 ],
 "metadata": {
  "kernelspec": {
   "display_name": "Python 3 (ipykernel)",
   "language": "python",
   "name": "python3"
  },
  "language_info": {
   "codemirror_mode": {
    "name": "ipython",
    "version": 3
   },
   "file_extension": ".py",
   "mimetype": "text/x-python",
   "name": "python",
   "nbconvert_exporter": "python",
   "pygments_lexer": "ipython3",
   "version": "3.9.12"
  }
 },
 "nbformat": 4,
 "nbformat_minor": 5
}
